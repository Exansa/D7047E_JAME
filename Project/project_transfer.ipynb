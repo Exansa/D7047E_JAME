{
 "cells": [
  {
   "cell_type": "code",
   "execution_count": null,
   "id": "6d42337c",
   "metadata": {},
   "outputs": [],
   "source": [
    "import tensorflow as tf\n",
    "import numpy as np\n",
    "import pandas as pd\n",
    "import matplotlib.pyplot as plt\n",
    "import seaborn as sns\n",
    "import os\n",
    "import datetime\n",
    "# Remove unnecessary things\n",
    "from keras.models import Sequential \n",
    "from keras.models import load_model\n",
    "from keras.layers import Conv2D, MaxPooling2D, Activation, Dropout, Flatten, Dense\n",
    "from keras.preprocessing.image import ImageDataGenerator\n",
    "from keras.utils import img_to_array, load_img\n",
    "# Needed?\n",
    "#for dirname, _, filenames in os.walk('/data/fruits-360'):\n",
    "#    for filename in filenames:\n",
    "#        print(os.path.join(dirname, filename))"
   ]
  },
  {
   "cell_type": "code",
   "execution_count": null,
   "id": "d223bc52",
   "metadata": {},
   "outputs": [],
   "source": [
    "train_path = '/Users/alexandersellin/Documents/Programmering/Phyton/D7047E/Project/Fruit_quality_dataset/Train/'\n",
    "test_path = '/Users/alexandersellin/Documents/Programmering/Phyton/D7047E/Project/Fruit_quality_dataset/Test/'"
   ]
  },
  {
   "cell_type": "code",
   "execution_count": null,
   "id": "01abc077",
   "metadata": {},
   "outputs": [],
   "source": [
    "# Loads Tensorboard\n",
    "%load_ext tensorboard\n",
    "# Clear any logs from previous runs\n",
    "!rm -rf ./logs/"
   ]
  },
  {
   "cell_type": "code",
   "execution_count": null,
   "id": "99b59f84",
   "metadata": {},
   "outputs": [],
   "source": [
    "# Insert fruits that you want to inspect\n",
    "fruits = ['Apple', 'Banana', 'Grape', 'Orange', 'Pomegranate']\n",
    "# Which image in the folder\n",
    "fruitnr = 1\n",
    "ripe=False\n",
    "Ripe=\"-Fresh\"\n",
    "plt.figure(figsize=(10,10))\n",
    "for i in range(len(fruits)):\n",
    "    img = load_img(train_path + \"{fruit}{ripe}/{filename}\"\n",
    "                   .format(ripe=Ripe,fruit=fruits[i], filename=os.listdir(train_path +  fruits[i] +Ripe )[fruitnr-1]))\n",
    "    plt.subplot(5,5,i+1)\n",
    "    plt.xticks([])\n",
    "    plt.yticks([])\n",
    "    plt.imshow(img)\n",
    "    plt.xlabel(fruits[i] + ' ' + Ripe)\n",
    "    # Ocillates between Fresh and Spoiled\n",
    "    if ripe==True:\n",
    "        Ripe=\"-Fresh\"\n",
    "        ripe=False\n",
    "    elif ripe==False:\n",
    "        Ripe=\"-Spoiled\"\n",
    "        ripe=True\n",
    "plt.show()"
   ]
  },
  {
   "cell_type": "code",
   "execution_count": null,
   "id": "27b6d0aa",
   "metadata": {},
   "outputs": [],
   "source": [
    "img = img_to_array(img)\n",
    "img.shape"
   ]
  },
  {
   "cell_type": "code",
   "execution_count": null,
   "id": "45c9e98d",
   "metadata": {},
   "outputs": [],
   "source": [
    "compile"
   ]
  },
  {
   "cell_type": "code",
   "execution_count": null,
   "id": "6b56142e",
   "metadata": {},
   "outputs": [],
   "source": [
    "train_datagen = ImageDataGenerator(\n",
    "                    rescale = 1./255,\n",
    "                    shear_range = 0.3,\n",
    "                    horizontal_flip=True,\n",
    "                    vertical_flip=False,\n",
    "                    zoom_range = 0.3\n",
    "                    )\n",
    "test_datagen  = ImageDataGenerator(rescale = 1./255)\n",
    "\n",
    "train_generator = train_datagen.flow_from_directory(train_path, target_size=(100,100), batch_size = 32,color_mode= \"rgb\", class_mode = \"categorical\")\n",
    "test_generator = test_datagen.flow_from_directory(test_path, target_size=(100,100), batch_size = 32,color_mode= \"rgb\", class_mode = \"categorical\")"
   ]
  },
  {
   "cell_type": "code",
   "execution_count": null,
   "id": "cf2d16d2",
   "metadata": {},
   "outputs": [],
   "source": [
    "# Place to save the model weights\n",
    "checkpoint_path = \"/Users/alexandersellin/Documents/Programmering/Phyton/D7047E/Project/TrainedModel/Model_Ripeness.ckpt\"\n",
    "checkpoint_dir = os.path.dirname(checkpoint_path)\n",
    "\n",
    "# Create a callback that saves the model's weights\n",
    "cp_callback = tf.keras.callbacks.ModelCheckpoint(filepath=checkpoint_path, save_weights_only=False, save_best_only=True, verbose=1)\n",
    "\n",
    "log_dir = \"logs/fit/\" + datetime.datetime.now().strftime(\"%Y%m%d-%H%M%S\")\n",
    "tensorboard_callback = tf.keras.callbacks.TensorBoard(log_dir=log_dir, histogram_freq=1)\n",
    "hist = model.fit(train_generator, \n",
    "                  epochs = 10,\n",
    "                  validation_data = test_generator,\n",
    "                  validation_steps = 50,\n",
    "                  callbacks=[tensorboard_callback,cp_callback])"
   ]
  },
  {
   "cell_type": "code",
   "execution_count": null,
   "id": "a17473b6",
   "metadata": {},
   "outputs": [],
   "source": [
    "# Launces application 'Tensorboard' that compiles all data from code-run in file path 'logs/fit'\n",
    "%tensorboard --logdir logs/fit  --port=8008"
   ]
  }
 ],
 "metadata": {
  "kernelspec": {
   "display_name": "Python 3 (ipykernel)",
   "language": "python",
   "name": "python3"
  },
  "language_info": {
   "codemirror_mode": {
    "name": "ipython",
    "version": 3
   },
   "file_extension": ".py",
   "mimetype": "text/x-python",
   "name": "python",
   "nbconvert_exporter": "python",
   "pygments_lexer": "ipython3",
   "version": "3.9.15"
  }
 },
 "nbformat": 4,
 "nbformat_minor": 5
}
